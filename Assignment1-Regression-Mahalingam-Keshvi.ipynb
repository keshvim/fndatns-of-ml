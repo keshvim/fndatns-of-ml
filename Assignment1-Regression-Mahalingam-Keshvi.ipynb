{
 "cells": [
  {
   "cell_type": "markdown",
   "metadata": {},
   "source": [
    "# Assignment 1: Regression \n",
    "### CS 4262/5262 (Foundations of Machine Learning)<br><br>Vanderbilt University, Spring 2022<br><br>Due date/time: Check with Brightspace\n",
    "---\n",
    "<br>In this first assignment, you will have a chance to implement linear and polynomial regression models. In addition to programming tasks (marked with #TODO), there are some short-answer questions throughout the notebook. Please do not hesitate to ask for clarification. "
   ]
  },
  {
   "cell_type": "markdown",
   "metadata": {},
   "source": [
    "### Please enter your name:  Keshvi Mahalingam\n"
   ]
  },
  {
   "cell_type": "markdown",
   "metadata": {},
   "source": [
    "---\n",
    "## Part 1: Dataset\n",
    "Here, we will be looking at a sample of Boston housing data from around the 1970s. Specifically, you will build a model that predicts the median price of a house given the average number of rooms. \n",
    "\n",
    "You can learn more about the data here: https://www.cs.toronto.edu/~delve/data/boston/bostonDetail.html"
   ]
  },
  {
   "cell_type": "code",
   "execution_count": 2,
   "metadata": {},
   "outputs": [],
   "source": [
    "import matplotlib.pyplot as plt\n",
    "import numpy as np\n",
    "import scipy as sc\n",
    "import random\n",
    "import sklearn.datasets "
   ]
  },
  {
   "cell_type": "code",
   "execution_count": 3,
   "metadata": {},
   "outputs": [],
   "source": [
    "'''\n",
    "Fetches data of interest: median Boston housing prices for an average number of rooms (in the 1970s).\n",
    "@return average number of rooms in house (numpy.ndarray), median price of house (numpy.ndarray)\n",
    "'''\n",
    "def fetch_housing_data():\n",
    "    housing_data = sklearn.datasets.load_boston()\n",
    "    num_rooms = housing_data.data[:,5]\n",
    "    median_price = housing_data.target\n",
    "    return num_rooms, median_price \n",
    "\n",
    "'''\n",
    "Renders a simple (x,y) plot. \n",
    "@param x (numpy.ndarray) - average number of rooms \n",
    "       y (numpy.ndarray) - median price of house \n",
    "'''\n",
    "def simple_plot(x,y):\n",
    "    plt.scatter(x,y)\n",
    "    plt.title('Boston Housing')\n",
    "    plt.xlabel('Average Number of Rooms')\n",
    "    plt.ylabel('Median Price (1000s)')\n",
    "    plt.show()"
   ]
  },
  {
   "cell_type": "markdown",
   "metadata": {},
   "source": [
    "**Run the two functions above to display a plot of the data. Based on the plot, do you think linear regression will be able to effectively model the data? Why or why not?**\n",
    "\n",
    "Response: I think that linear regression will model the data effectively because the data appears to conform to an overall positive linear trend. <br>\n"
   ]
  },
  {
   "cell_type": "code",
   "execution_count": 3,
   "metadata": {},
   "outputs": [
    {
     "data": {
      "image/png": "[encoded data removed]",
      "text/plain": [
       "<Figure size 432x288 with 1 Axes>"
      ]
     },
     "metadata": {
      "needs_background": "light"
     },
     "output_type": "display_data"
    }
   ],
   "source": [
    "#TODO\n",
    "# Run the functions here. \n",
    "x, y = fetch_housing_data()\n",
    "simple_plot(x,y)"
   ]
  },
  {
   "cell_type": "markdown",
   "metadata": {},
   "source": [
    "The `split_train_test()` function below will split the data into a training set and test set. Run the cell (no need to call the function yet).\n",
    "\n",
    "**What is the definition of overfitting? Why is it necessary to have both training and test sets?**\n",
    "\n",
    "Response: Overfitting occurs when a model fits its training set too well. When a model becomes overfitted, it loses its potential as a predictive tool. An overfitted model is only useful for making predictions about its training set. If we test a model using the set we used to train it, we cannot validly gauge the accuracy of our model's predictions. A test set is necessary because it allows us to evaluate the performance of our trained model. <br>\n"
   ]
  },
  {
   "cell_type": "code",
   "execution_count": 4,
   "metadata": {},
   "outputs": [],
   "source": [
    "'''\n",
    "Partitions a dataset into a training set and a test set (80/20 split, respectively). \n",
    "Shuffles dataset before splitting. \n",
    "@param x - data inputs (numpy.ndarray)\n",
    "       y - data targets (numpy.ndarray)\n",
    "@return training set inputs, \n",
    "        training set targets, \n",
    "        test set inputs,\n",
    "        test set targets (all numpy.ndarray)\n",
    "'''\n",
    "def split_train_test(x, y):\n",
    "    xy = list(zip(x, y))\n",
    "    random.shuffle(xy)\n",
    "    x, y = zip(*xy)\n",
    "    \n",
    "    split = int(len(x)*0.8)\n",
    "    train_x = np.array(x[:split])\n",
    "    train_y = np.array(y[:split])\n",
    "    test_x = np.array(x[split:])\n",
    "    test_y = np.array(y[split:])\n",
    "    \n",
    "    train_y = np.reshape(train_y, (len(train_y),1))\n",
    "    test_y = np.reshape(test_y, (len(test_y),1))\n",
    "    \n",
    "    return train_x, train_y, test_x, test_y"
   ]
  },
  {
   "cell_type": "markdown",
   "metadata": {},
   "source": [
    "---\n",
    "## Part 2: Simple Linear Regression\n",
    "For the `SimpleLinearRegressionModel` class below, fill in the incomplete methods using their respective descriptions. All methods you should fill out are marked with a #TODO. This model uses a Mean Squared Error cost function and gradient descent to optimize the parameters. "
   ]
  },
  {
   "cell_type": "code",
   "execution_count": 5,
   "metadata": {},
   "outputs": [],
   "source": [
    "class SimpleLinearRegressionModel():\n",
    "    \n",
    "    '''\n",
    "    Implementation of simple linear regression using gradient descent\n",
    "    @param x (numpy.ndarray) - training set of 'single-feature' inputs\n",
    "           y (numpy.ndarray) - training set of corresponding targets\n",
    "           theta (numpy.ndarray) - model parameters in the form of [intercept, coefficient]\n",
    "           alpha (float) - gradient descent step size\n",
    "    '''\n",
    "    def __init__(self, x, y, theta, alpha):\n",
    "        self.x = x\n",
    "        self.y = y\n",
    "        self.theta = theta\n",
    "        self.alpha = alpha\n",
    "     \n",
    "    '''\n",
    "    Equation for the regression line. \n",
    "    input x_i (float) - single input feature\n",
    "    @return corresponding model output (float)\n",
    "    '''\n",
    "    #TODO \n",
    "    def h(self, x_i):\n",
    "        return (self.theta[0] + (self.theta[1] * x_i))\n",
    "    \n",
    "    '''\n",
    "    Renders a plot of the training data and the regression line based on current model parameters.\n",
    "    ''' \n",
    "    def plot_current_model(self):\n",
    "        reg_line_y = [self.h(x_i) for x_i in self.x]\n",
    "        plt.scatter(self.x, self.y)\n",
    "        plt.plot(self.x, reg_line_y, color='g')\n",
    "        plt.title('Boston Housing')\n",
    "        plt.xlabel('Average Number of Rooms')\n",
    "        plt.ylabel('Median Price')\n",
    "        plt.show()\n",
    "    \n",
    "    '''\n",
    "    Loss function measuring mean squared error of the regression line for a given training set and model parameters. \n",
    "    @return MSE based on the current parameters (float)\n",
    "    '''\n",
    "    #TODO\n",
    "    def J(self):\n",
    "        m = len(self.y)\n",
    "        mse = 0\n",
    "        \n",
    "        for i in range(m):\n",
    "            mse += float((self.h(self.x[i]) - self.y[i])**2)\n",
    "        \n",
    "        return 0.5 / m * mse\n",
    "    \n",
    "    '''\n",
    "    Update the model parameters (i.e. the two theta values) for one gradient descent step. Hint: this involves \n",
    "    computing partial derivatives. \n",
    "    '''\n",
    "    #TODO\n",
    "    def gradient_descent_step(self):\n",
    "        m = len(self.y)\n",
    "        d_J0 = 0\n",
    "        d_J1 = 0\n",
    "        \n",
    "        for i in range(m):\n",
    "            d_J0 += (self.h(self.x[i]) - self.y[i]) / m\n",
    "            d_J1 += ((self.h(self.x[i]) - self.y[i]) * self.x[i]) / m\n",
    "        \n",
    "        self.theta[0] -= (self.alpha * d_J0.item())\n",
    "        self.theta[1] -= (self.alpha * d_J1.item())\n",
    "        \n",
    "    '''\n",
    "    Run gradient descent to optimize the model parameters.\n",
    "    Keep track of the value of the cost function. You may change the default threshold for convergence.\n",
    "    @param threshold (float) - run gradient descent until the magnitude of the gradient is below this value. \n",
    "    @return a list storing the value of the cost function after every step of gradient descent (float list)\n",
    "    '''\n",
    "    #TODO\n",
    "    def run_gradient_descent(self, threshold=0.001):\n",
    "        J_vals = []\n",
    "        J_prev = 0\n",
    "        while abs(J_prev - self.J()) >= threshold:\n",
    "            J_prev = self.J()\n",
    "            J_vals.append(J_prev)\n",
    "            self.gradient_descent_step()\n",
    "        return J_vals\n",
    "    \n",
    "    '''\n",
    "    Renders plot of MSE at each iteration of gradient descent\n",
    "    @param losses (float list) - MSE after every gradient descent step \n",
    "    '''\n",
    "    def plot_MSE_loss(self, losses):\n",
    "        plt.plot(range(len(losses)), losses)\n",
    "        plt.title('Learning Curve')\n",
    "        plt.xlabel('Number of Steps')\n",
    "        plt.ylabel('MSE Loss')\n",
    "        plt.show()"
   ]
  },
  {
   "cell_type": "markdown",
   "metadata": {},
   "source": [
    "Before applying this model to the Boston housing dataset, let's test your code on a smaller dataset. In the debugging function below, first create a small set of 25 training examples ((x,y) pairs) that have an approximately linear relationship. You can do so by first generating pairs that have a perfect linear relationship, then adding a bit of random noise. Then, run your Simple Linear Regression model on this dataset and display the plot of the final regression line, superimposed on the 25 datapoints (call the `plot_current_model()` method). "
   ]
  },
  {
   "cell_type": "code",
   "execution_count": 6,
   "metadata": {
    "scrolled": true
   },
   "outputs": [
    {
     "data": {
      "image/png": "[encoded data removed]",
      "text/plain": [
       "<Figure size 432x288 with 1 Axes>"
      ]
     },
     "metadata": {
      "needs_background": "light"
     },
     "output_type": "display_data"
    }
   ],
   "source": [
    "'''\n",
    "Function for debugging the simple linear regression model.\n",
    "'''\n",
    "#TODO\n",
    "def debug_SLR_model():\n",
    "    x = np.array([random.randrange(0.0, 10.0) for i in range(25)])\n",
    "    y = np.array([(16 * x_i - 5) for x_i in x])\n",
    "    \n",
    "    for i in range(25):\n",
    "        y[i] += random.randrange(-15.0, 15.0)\n",
    "    \n",
    "    test_model = SimpleLinearRegressionModel(x, y, [10.0, 10.0], 0.04)\n",
    "    test_model.run_gradient_descent()\n",
    "    \n",
    "    test_model.plot_current_model()\n",
    "\n",
    "debug_SLR_model()"
   ]
  },
  {
   "cell_type": "markdown",
   "metadata": {},
   "source": [
    "Great, your model looks like it'll work. Next, partition the Boston housing data into a training set and a test set (use the `split_train_test()` function from Part 1). Then, run the training set through new instances of `SimpleLinearRegression`. Try a value within the [$-40$,$-20$] range for $\\theta_0$ and a value within the [$0$,$20$] range for $\\theta_1$.\n",
    "\n",
    "Use the `plot_MSE_loss()` method to display the learning curve for three different step sizes (alpha): 0.001, 0.01, and 0.1."
   ]
  },
  {
   "cell_type": "markdown",
   "metadata": {},
   "source": [
    "**How do the learning curves differ? What can you infer about the effect of changing alpha, particularly as it increases/decreases?**\n",
    "\n",
    "Response: We can observe from the learning curve of the largest alpha value that when the alpha value becomes too large, it ends up exceeding the optimal loss value entirely. The alpha value of 0.01 results in the fewest number of steps, meaning it has the steepest learning curve and therefore the greatest learning rate of the three values. As the alpha value gets smaller, the learning curve becomes less steep and the learning rate decreases. This makes sense because the step size gets smaller, so it takes more steps to reach the ideal value. <br>\n"
   ]
  },
  {
   "cell_type": "code",
   "execution_count": 7,
   "metadata": {},
   "outputs": [],
   "source": [
    "# Assess the different step sizes here (next four cells).\n",
    "num_rooms, median_price = fetch_housing_data()\n",
    "train_x, train_y, test_x, test_y = split_train_test(num_rooms, median_price)\n",
    "#theta_0 = random.randrange(-40.0, -19.0)\n",
    "#theta_1 = random.randrange(0.0, 21.0)"
   ]
  },
  {
   "cell_type": "code",
   "execution_count": 8,
   "metadata": {},
   "outputs": [
    {
     "data": {
      "image/png": "[encoded data removed]",
      "text/plain": [
       "<Figure size 432x288 with 1 Axes>"
      ]
     },
     "metadata": {
      "needs_background": "light"
     },
     "output_type": "display_data"
    }
   ],
   "source": [
    "alpha1 = 0.001\n",
    "#TODO - run an instance of the model and plot the learning curve with this value of alpha\n",
    "boston_housing1 = SimpleLinearRegressionModel(train_x, train_y, [-21, 7], alpha1)\n",
    "losses = boston_housing1.run_gradient_descent()\n",
    "boston_housing1.plot_MSE_loss(losses)"
   ]
  },
  {
   "cell_type": "code",
   "execution_count": 9,
   "metadata": {},
   "outputs": [
    {
     "data": {
      "image/png": "[encoded data removed]",
      "text/plain": [
       "<Figure size 432x288 with 1 Axes>"
      ]
     },
     "metadata": {
      "needs_background": "light"
     },
     "output_type": "display_data"
    }
   ],
   "source": [
    "alpha2 = 0.01\n",
    "#TODO - run an instance of the model and plot the learning curve with this value of alpha\n",
    "boston_housing2 = SimpleLinearRegressionModel(train_x, train_y, [-21, 7], alpha2)\n",
    "losses = boston_housing2.run_gradient_descent()\n",
    "boston_housing2.plot_MSE_loss(losses)"
   ]
  },
  {
   "cell_type": "code",
   "execution_count": 10,
   "metadata": {
    "scrolled": true
   },
   "outputs": [
    {
     "data": {
      "image/png": "[encoded data removed]",
      "text/plain": [
       "<Figure size 432x288 with 1 Axes>"
      ]
     },
     "metadata": {
      "needs_background": "light"
     },
     "output_type": "display_data"
    }
   ],
   "source": [
    "alpha3 = 0.1\n",
    "#TODO - run an instance of the model and plot the learning curve with this value of alpha\n",
    "boston_housing3 = SimpleLinearRegressionModel(train_x, train_y, [-21, 7], alpha3)\n",
    "losses = boston_housing3.run_gradient_descent()\n",
    "boston_housing3.plot_MSE_loss(losses)"
   ]
  },
  {
   "cell_type": "markdown",
   "metadata": {},
   "source": [
    "Based on your experiments, report a value of alpha and an initial value of $\\theta$ that allowed gradient descent to find a good solution (i.e., parameters $\\theta$ that fit the training data well) in a reasonable amount of time. Next, using the `h(x)` method together with your trained model, predict the target values of the test set ('median price') based on the input features of the test set ('average number of rooms'). Finally, for each datapoint in the test set, display a scatter plot of 'average number of rooms' (x-axis) against both the actual 'median house price' value and the model's prediction (y-axis).\n",
    "\n",
    "Use different colors for the actual vs. predicted values. Include a legend, title, and axis labels (see `simple_plot()` from Part 1 for example code). "
   ]
  },
  {
   "cell_type": "code",
   "execution_count": 11,
   "metadata": {},
   "outputs": [],
   "source": [
    "# Evaluate model on test data here (next two cells). \n",
    "\n",
    "'''\n",
    "Make predictions for inputs using a trained SLR model. \n",
    "@param model (SimpleLinearRegression) - SLR model with (ideally) optimized parameters\n",
    "       test_x (numpy.ndarray) - inputs to run through the model \n",
    "@return corresponding predictions for the inputs (numpy.ndarray)\n",
    "'''\n",
    "#TODO\n",
    "def SLR_predict(model, test_x):\n",
    "    reg_line_y = [model.h(x_i) for x_i in test_x]\n",
    "    return reg_line_y\n",
    "\n",
    "'''\n",
    "Renders a plot showing the actual vs SLR-predicted outputs for a set of inputs. \n",
    "@param test_x (numpy.ndarray) - model inputs\n",
    "       test_y (numpy.ndarray) - corresponding actual outputs \n",
    "       pred_y (numpy.ndarray) - corresponding predicted outputs\n",
    "'''\n",
    "#TODO\n",
    "def plot_actual_vs_pred(test_x, test_y, pred_y):\n",
    "    actual = plt.scatter(test_x,test_y, color='b')\n",
    "    pred = plt.scatter(test_x, pred_y, color='m')\n",
    "    plt.legend((actual, pred), ('Actual', 'Predicted'), scatterpoints=1, loc='best', ncol=2)\n",
    "    plt.title('Boston Housing')\n",
    "    plt.xlabel('Average Number of Rooms')\n",
    "    plt.ylabel('Median Price (1000s)')\n",
    "    plt.show()"
   ]
  },
  {
   "cell_type": "code",
   "execution_count": 12,
   "metadata": {},
   "outputs": [
    {
     "data": {
      "image/png": "[encoded data removed]",
      "text/plain": [
       "<Figure size 432x288 with 1 Axes>"
      ]
     },
     "metadata": {
      "needs_background": "light"
     },
     "output_type": "display_data"
    }
   ],
   "source": [
    "# TODO - select values for theta and alpha based on your work in previous cells\n",
    "theta =  boston_housing2.theta\n",
    "alpha = alpha2\n",
    "\n",
    "slr = SimpleLinearRegressionModel(train_x, train_y, theta, alpha)\n",
    "losses = slr.run_gradient_descent()\n",
    "pred_y = SLR_predict(slr, test_x)\n",
    "plot_actual_vs_pred(test_x, test_y, pred_y)"
   ]
  },
  {
   "cell_type": "markdown",
   "metadata": {},
   "source": [
    "---\n",
    "## Part 3: Polynomial Regression "
   ]
  },
  {
   "cell_type": "markdown",
   "metadata": {},
   "source": [
    "In Part 2, we modeled the data with a linear function. Now, we will build a polynomial regression model and apply it to the same Boston housing data. We will implement gradient descent, and vectorize operations whenever possible.\n",
    "\n",
    "In class, we learned that the gradient descent update rule can be written as:\n",
    "   $\\theta := \\theta - \\alpha \\cdot \\nabla J(\\theta)$,\n",
    "   and that for Batch Gradient Descent, the $j^{th}$ entry of $\\nabla_\\theta J(\\theta)$ can be expressed as:\n",
    " \n",
    "   $$\\sum_{i=1}^m (h_\\theta(x^{(i)})-y^{(i)}) \\cdot x_j^{(i)} $$"
   ]
  },
  {
   "cell_type": "markdown",
   "metadata": {},
   "source": [
    "In the `PolynomialRegressionModel` class below, note that there is a new field `self.degree` in the `init()` method, which specifies the highest polynomial degree in your regression equation. For example, if `self.degree=3`, then the regression equation is $y_i = \\theta_0 + \\theta_1 x_i + \\theta_2 x_i^2 + \\theta_3 x_i^3$."
   ]
  },
  {
   "cell_type": "markdown",
   "metadata": {},
   "source": [
    "**Although we are fitting a nonlinear function to our data, why can polynomial regression be considered a case of multiple linear regression?***\n",
    "\n",
    "Response: We can treat polynomial regression as a special case of multiple linear regression because we are using a linear combination of multiple input features to determine the coefficients of our regression equation. In other words, we are trying to find a linear relationship between the our regression coefficients and y. <br>\n"
   ]
  },
  {
   "cell_type": "markdown",
   "metadata": {},
   "source": [
    "<br>**First,** complete the function `form_design_matrix()` below. This function should return the design matrix $X$ for polynomial regression, which is a matrix of dimensions $m \\times (d+1)$, where $d$ is the degree of the polynomial. Remember to include the intercept term (i.e., append the 'feature' $x_0 = 1$ to each training example, such that the first column of $X$ consists of all 1's. "
   ]
  },
  {
   "cell_type": "code",
   "execution_count": 13,
   "metadata": {},
   "outputs": [],
   "source": [
    "'''\n",
    "Converts an array of training set inputs into a design matrix, where rows represent \n",
    "training inputs and columns represent input features. \n",
    "@param training_inputs (numpy.ndarray) - training set of input features\n",
    "       degree (int) - highest polynomial degree to extend the design matrix into\n",
    "@return design matrix including the x_0 'feature' - (numpy.ndarray)\n",
    "'''\n",
    "#TODO\n",
    "def form_design_matrix(training_inputs, degree):\n",
    "    m = len(training_inputs)\n",
    "    matrix = np.array([[x_i ** d for d in range(degree+1)] for x_i in training_inputs])\n",
    "    matrix.reshape(m, degree+1)\n",
    "    return matrix"
   ]
  },
  {
   "cell_type": "markdown",
   "metadata": {},
   "source": [
    "**Next,** before writing any further code, show that the above expression for the jth entry of the gradient ( = $\\sum_{i=1}^m (h_\\theta(x^{(i)})-y^{(i)}) \\cdot x_j^{(i)} $) indeed corresponds to the jth entry of $\\nabla_\\theta J(\\theta) = X^T(X\\theta - y)$. You can write your derivation below using LaTeX, or upload a separate sheet of paper with a hand-written derivation as a separate document along with this notebook. "
   ]
  },
  {
   "cell_type": "code",
   "execution_count": null,
   "metadata": {},
   "outputs": [],
   "source": [
    "#TODO\n",
    "# Show your gradient derivation here, or upload derivation as a separate document.\n",
    "# if you modify to take in LaTeX, don't forget to change from Code to Markdown for the cell metadata."
   ]
  },
  {
   "cell_type": "markdown",
   "metadata": {},
   "source": [
    "**Then,** complete the methods in the `PolynomialRegressionModel` class using vectorization. Assume that the model's training input will be in the form of a design matrix. A lot of your SLR code can be copied over to this new class— modify your methods accordingly to work for any $d$-degree polynomial. "
   ]
  },
  {
   "cell_type": "code",
   "execution_count": 14,
   "metadata": {},
   "outputs": [],
   "source": [
    "class PolynomialRegressionModel():\n",
    "    \n",
    "    '''\n",
    "    Implementation of a Polynomial regression model using MSE and Gradient Descent.\n",
    "    @param X (numpy.ndarray) - training set of input features, as a design matrix\n",
    "           y (numpy.ndarray) - training set of corresponding targets\n",
    "           theta (numpy.ndarray) - model parameters (variable coefficients, in order of increasing variable degree)\n",
    "           alpha (float) - learning step size\n",
    "           degree (int) - highest polynomial degree\n",
    "    '''\n",
    "    def __init__(self, X, y, theta, alpha, degree):\n",
    "        self.X = X\n",
    "        self.y = y\n",
    "        self.theta = theta\n",
    "        self.alpha = alpha\n",
    "        self.degree = degree\n",
    "             \n",
    "    '''\n",
    "    Hypothesis - return model prediction \n",
    "    @param X (numpy.ndarray) - design matrix of input features\n",
    "    @return corresponding model output (float)\n",
    "    '''\n",
    "    #TODO\n",
    "    def h(self, X):\n",
    "        return X @ self.theta\n",
    "    \n",
    "    '''\n",
    "    Renders a plot of the training data and the regression line based on current model parameters.\n",
    "    ''' \n",
    "    def plot_current_model(self):\n",
    "        reg_curve_y = self.h(self.X)\n",
    "        plt.scatter(self.X[:,1], self.y)\n",
    "        plt.scatter(self.X[:,1], reg_curve_y, color='g')\n",
    "        plt.title('Boston Housing (scaled data)')\n",
    "        plt.xlabel('Average Number of Rooms')\n",
    "        plt.ylabel('Median Price')\n",
    "        plt.show()\n",
    "    \n",
    "    '''\n",
    "    Cost function measuring mean squared error of the regression line for a given training set and model parameters.\n",
    "    Vectorize your code - no loops!\n",
    "    @return MSE based on the current parameters (float)\n",
    "    '''\n",
    "    #TODO\n",
    "    def J(self):\n",
    "        return (0.5 * ((self.h(self.X) - self.y).T @ (self.h(self.X) - self.y)).item() / m)\n",
    "    \n",
    "    '''\n",
    "    Update theta for one gradient descent step. Vectorize your code - no loops!\n",
    "    @return the gradient of the cost function (numpy.ndarray), for use in run_gradient_descent\n",
    "    '''\n",
    "    #TODO\n",
    "    def gradient_descent_step(self):\n",
    "        gradient = (1/m) * (self.X.T @ (self.h(self.X) - self.y))\n",
    "        self.theta -= self.alpha * gradient\n",
    "        return gradient\n",
    "       \n",
    "    '''\n",
    "    Run gradient descent to optimize the model parameters.\n",
    "    Keep track of the losses. You may change the default threshold for convergence. \n",
    "    Here, we will use a convergence criterion based on the norm of the gradient vector.\n",
    "    @param threshold (float) - run gradient descent until the absolute norm of the gradient is below this value.\n",
    "    @return a list storing the value of the cost function after every step of gradient descent (float list)\n",
    "    '''\n",
    "    def run_gradient_descent(self, threshold=0.001):\n",
    "        losses = []\n",
    "        loss = self.J()\n",
    "        losses.append(loss)\n",
    "    \n",
    "        norm_grad_vec = 1\n",
    "        while norm_grad_vec > threshold:\n",
    "            grad_vec = self.gradient_descent_step()\n",
    "            loss = self.J()\n",
    "            losses.append(loss)\n",
    "            norm_grad_vec = np.linalg.norm(grad_vec)\n",
    "        return losses\n",
    "    \n",
    "    '''\n",
    "    Renders the learning curve of the model during its optmization process. \n",
    "    @param losses (float list) - MSE after every gradient descent step \n",
    "    '''\n",
    "    def plot_MSE_loss(self, losses):\n",
    "        plt.plot(range(len(losses)), losses)\n",
    "        plt.title('Learning Curve')\n",
    "        plt.xlabel('Number of Steps')\n",
    "        plt.ylabel('MSE Loss')\n",
    "        plt.show()"
   ]
  },
  {
   "cell_type": "markdown",
   "metadata": {},
   "source": [
    "Next, we will run an instance of the `PolynomialRegressionModel` class with a degree of 3. As feature scaling will help our model to converge more quickly, we can first scale our design matrix (normalize each column to have zero mean, unit variance - except for the column of ones). Here, let's set up the design matrix and perform this feature scaling (you can just execute this code, you do not need to write anything here - but make sure you understand what the code is doing). The resulting scaled design matrix will be your input to `PolynomialRegressionModel` in the next part."
   ]
  },
  {
   "cell_type": "code",
   "execution_count": 15,
   "metadata": {},
   "outputs": [],
   "source": [
    "degree = 3\n",
    "design_mat = form_design_matrix(train_x, degree)\n",
    "Xz = sc.stats.zscore(design_mat[:,1:]) # scale *except* for the column of ones\n",
    "m = Xz.shape[0]\n",
    "ones_vec = np.ones((m,1))\n",
    "design_mat_scaled = np.hstack((ones_vec,Xz))"
   ]
  },
  {
   "cell_type": "markdown",
   "metadata": {},
   "source": [
    "**Now,** run an instance of the `PolynomialRegressionModel` class using this design matrix. Experiment with the parameter 'alpha' and the initial value of the vector 'theta'. Plot the data and resulting regression curve using the method `plot_current_model`. "
   ]
  },
  {
   "cell_type": "code",
   "execution_count": 31,
   "metadata": {},
   "outputs": [
    {
     "data": {
      "image/png": "[encoded data removed]",
      "text/plain": [
       "<Figure size 432x288 with 1 Axes>"
      ]
     },
     "metadata": {
      "needs_background": "light"
     },
     "output_type": "display_data"
    },
    {
     "data": {
      "image/png": "[encoded data removed]",
      "text/plain": [
       "<Figure size 432x288 with 1 Axes>"
      ]
     },
     "metadata": {
      "needs_background": "light"
     },
     "output_type": "display_data"
    }
   ],
   "source": [
    "#TODO\n",
    "# Run an instance of the Polynomial Regression Model with a degree of 3 on the Boston housing data here.\n",
    "theta_init = np.array([20, -90, 120, -80.0]) # choose this or any other starting point that will converge quickly\n",
    "theta_init = np.reshape(theta_init, (degree+1,1))\n",
    "\n",
    "test2 = PolynomialRegressionModel(design_mat_scaled, train_y, theta_init, 0.6, 3)\n",
    "losses = test2.run_gradient_descent()\n",
    "\n",
    "test2.plot_current_model()\n",
    "test2.plot_MSE_loss(losses)"
   ]
  },
  {
   "cell_type": "markdown",
   "metadata": {},
   "source": [
    "**What do you foresee will happen if you apply this model to the held-out test set?**\n",
    "\n",
    "Response: I think the model's predictive accuracy will increase if we apply it to the test set, as it will have more training inputs to learn from. <br>\n"
   ]
  },
  {
   "cell_type": "markdown",
   "metadata": {},
   "source": [
    "**Lastly,** as an alternative to running gradient descent for linear regression, one can solve directly for the value of $\\theta$ that minimizes the least-squares cost function $J(\\theta)$, using the equation:\n",
    "$$ \\theta = (X^T X)^{-1} X^T y $$\n",
    "\n",
    "Please fill in the method `closed_form_solution()` below, using this equation. Run this using the feature-scaled design matrix constructed above, and report the value of $\\theta$ it returns, and compare it to the solution you obtained using gradient descent. \n",
    "\n",
    "Note:  your predictions will be the same regardless of whether you use the scaled or non-scaled version of the design matrix (optionally, you can check this on your own!). However, for the sake of comparing the values of $\\theta$, you can use the feature-scaled design matrix here."
   ]
  },
  {
   "cell_type": "code",
   "execution_count": 32,
   "metadata": {},
   "outputs": [],
   "source": [
    "'''\n",
    "Equation for directly solving for theta which minimizes the least-squares cost function J(theta).\n",
    "@param X (numpy.ndarray) - model input in the form of a design matrix \n",
    "       y (numpy.ndarray) - model output \n",
    "@return set of theta values for the regression equation that minimizes J(theta) (numpy.ndarray)\n",
    "'''\n",
    "#TODO \n",
    "def closed_form_solution(X, y):\n",
    "    return (np.linalg.inv(X.T @ X) @ X.T @ y)"
   ]
  },
  {
   "cell_type": "code",
   "execution_count": 33,
   "metadata": {
    "scrolled": true
   },
   "outputs": [
    {
     "name": "stdout",
     "output_type": "stream",
     "text": [
      "Closed-form:\n",
      "[[ 22.49059406]\n",
      " [-76.19947907]\n",
      " [148.26137739]\n",
      " [-66.67561147]]\n",
      "\n",
      "Gradient descent: \n",
      "[[ 22.49059406]\n",
      " [-71.54387434]\n",
      " [138.55687597]\n",
      " [-61.57685133]]\n"
     ]
    }
   ],
   "source": [
    "#TODO - run closed_form_solution()\n",
    "\n",
    "print('Closed-form:')\n",
    "print(closed_form_solution(design_mat_scaled, train_y))\n",
    "\n",
    "print('\\nGradient descent: ')\n",
    "print(test2.theta)"
   ]
  },
  {
   "cell_type": "markdown",
   "metadata": {},
   "source": [
    "**Gradient descent theta compared to closed-form solution theta:**<br>\n",
    "\n",
    "Response: The closed-form solution and gradient descent theta values were [22.4906, -76.1995, 148.2614, -66.6756] and [22.4906, -71.5439, 138.5569, -61.5769], respectively. <br>\n"
   ]
  },
  {
   "cell_type": "markdown",
   "metadata": {},
   "source": [
    "**In what scenario(s) might one choose to use gradient descent over solving the closed-form solution?**\n",
    "\n",
    "Response: It is better to use the gradient descent theta when handling data with a large number of input features, as the closed-form solution would involve inverting a large matrix and would therefore be much slower than the gradient descent method. <br>\n"
   ]
  },
  {
   "cell_type": "markdown",
   "metadata": {},
   "source": [
    "---\n",
    "## Part 4: Submission \n",
    "\n",
    "Once you're ready to submit, create a 'clean' version of your final solutions, removing any extra debugging code you may have written. Next, in the menu bar, click `Kernel > Restart & Clear Output`. Then run your code from top to bottom, so that all the plots are displayed. Back in the menu bar, click `File > Download as > Notebook (.ipynb)` to download your notebook. Don't forget to answer the short answer questions. <em>If you use a separate PDF with your short answer questions, it should be added alongside the ipynb file as a PDF, and zipped up together as your solution.</em>\n",
    "\n",
    "Please upload this to Brightspace by midnight of the deadline. "
   ]
  },
  {
   "cell_type": "code",
   "execution_count": null,
   "metadata": {},
   "outputs": [],
   "source": []
  }
 ],
 "metadata": {
  "kernelspec": {
   "display_name": "Python 3",
   "language": "python",
   "name": "python3"
  },
  "language_info": {
   "codemirror_mode": {
    "name": "ipython",
    "version": 3
   },
   "file_extension": ".py",
   "mimetype": "text/x-python",
   "name": "python",
   "nbconvert_exporter": "python",
   "pygments_lexer": "ipython3",
   "version": "3.6.13"
  }
 },
 "nbformat": 4,
 "nbformat_minor": 4
}
